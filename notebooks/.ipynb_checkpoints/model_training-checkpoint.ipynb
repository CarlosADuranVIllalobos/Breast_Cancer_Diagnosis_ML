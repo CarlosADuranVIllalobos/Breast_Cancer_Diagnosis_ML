{
 "cells": [
  {
   "cell_type": "markdown",
   "metadata": {},
   "source": [
    "# Model Training and Tuning\n",
    "\n",
    "This notebook covers the training and tuning of various machine learning models for the Wisconsin Breast Cancer dataset."
   ]
  },
  {
   "cell_type": "code",
   "execution_count": 33,
   "metadata": {},
   "outputs": [],
   "source": [
    "# Import necessary libraries and functions\n",
    "import pandas as pd\n",
    "import numpy as np\n",
    "import sys\n",
    "import os\n",
    "\n",
    "# Get the current notebook's directory\n",
    "current_dir = os.path.dirname(os.path.abspath(\"__file__\"))\n",
    "\n",
    "# Construct the path to the scripts directory\n",
    "utils_dir = os.path.join(current_dir, '..', 'scripts')\n",
    "\n",
    "# Add the utils directory to the system path\n",
    "sys.path.append(utils_dir)\n",
    "\n",
    "#Load functions from the script train.py\n",
    "from train import load_features_data, tune_model, train_model, evaluate_model, save_model\n"
   ]
  },
  {
   "cell_type": "markdown",
   "metadata": {},
   "source": [
    "## Load Preprocessed Data"
   ]
  },
  {
   "cell_type": "code",
   "execution_count": 34,
   "metadata": {},
   "outputs": [
    {
     "name": "stdout",
     "output_type": "stream",
     "text": [
      "y_train distribution before SMOTE: [286 169]\n",
      "y_train distribution after SMOTE: [286 286]\n",
      "y_test distribution: [71 43]\n"
     ]
    }
   ],
   "source": [
    "# Load the preprocessed data\n",
    "X_train, X_test, y_train, y_test, selected_features  = load_features_data('../data/selected_features_data.npz')\n",
    "\n",
    "# Apply Synthetic Minority Over-sampling Technique (SMOTE) to handle class imbalance\n",
    "from imblearn.over_sampling import SMOTE\n",
    "smote = SMOTE(random_state=42)\n",
    "X_train_balanced, y_train_balanced = smote.fit_resample(X_train, y_train)\n",
    "print(\"y_train distribution before SMOTE:\", np.bincount(y_train))\n",
    "print(\"y_train distribution after SMOTE:\", np.bincount(y_train_balanced))\n",
    "print(\"y_test distribution:\", np.bincount(y_test))"
   ]
  },
  {
   "cell_type": "markdown",
   "metadata": {},
   "source": [
    "## Prepare parameters for the GridSearch in cross validation to tune the models"
   ]
  },
  {
   "cell_type": "code",
   "execution_count": 35,
   "metadata": {},
   "outputs": [],
   "source": [
    "from sklearn.ensemble import RandomForestClassifier, GradientBoostingClassifier\n",
    "from sklearn.cross_decomposition import PLSRegression\n",
    "from sklearn.neural_network import MLPClassifier\n",
    "\n",
    "#Upper bond for the PLS  GridSearch\n",
    "n_components_upper_bound = min(X_train.shape[0], X_train.shape[1])\n",
    "\n",
    "#Models and parameters for GridSearch\n",
    "models = {\n",
    "    'Random Forest': RandomForestClassifier(random_state=42, class_weight='balanced'),\n",
    "    'Gradient Boosting': GradientBoostingClassifier(random_state=42),\n",
    "    'PLS Regression': PLSRegression(),\n",
    "    'Neural Network': MLPClassifier(hidden_layer_sizes=(50,), activation='relu', solver='adam', random_state=42)\n",
    "    }\n",
    "    \n",
    "param_grids = {\n",
    "    'Random Forest': {\n",
    "        'n_estimators': [50, 100, 200],\n",
    "        'max_depth': [None, 10, 20, 30],\n",
    "        'min_samples_split': [2, 5, 10],\n",
    "        'class_weight': ['balanced', {0: 1, 1: 3}, {0: 1, 1: 5}]\n",
    "        },\n",
    "    'Gradient Boosting': {\n",
    "        'n_estimators': [50, 100, 200],\n",
    "        'learning_rate': [0.01, 0.1, 0.2],\n",
    "        'max_depth': [3, 5, 7],\n",
    "        'subsample': [0.8, 1.0],\n",
    "        },\n",
    "    'PLS Regression': {\n",
    "        'n_components': [i for i in range(2, n_components_upper_bound + 1)]\n",
    "        },\n",
    "    'Neural Network': {\n",
    "        'hidden_layer_sizes': [(10,), (20,), (50,), (10,10), (20,20)],\n",
    "        'max_iter': [500, 1000],  \n",
    "        'alpha': [0.0001, 0.001, 0.01],\n",
    "        'learning_rate_init': [0.001, 0.01, 0.1]\n",
    "        }\n",
    "    }\n"
   ]
  },
  {
   "cell_type": "markdown",
   "metadata": {},
   "source": [
    "## Tune, train and evaluate models"
   ]
  },
  {
   "cell_type": "code",
   "execution_count": null,
   "metadata": {},
   "outputs": [
    {
     "name": "stdout",
     "output_type": "stream",
     "text": [
      "Tuning Random Forest...\n"
     ]
    }
   ],
   "source": [
    "results = {}\n",
    "for name, model in models.items():\n",
    "    print(f\"Tuning {name}...\")\n",
    "    tuned_model = tune_model(model, param_grids[name], X_train_balanced, y_train_balanced)\n",
    "    print(f\"Training {name}...\")\n",
    "    trained_model = train_model(tuned_model, X_train_balanced, y_train_balanced)\n",
    "    print(f\"Evaluating {name}...\")\n",
    "    is_regression = True if name == 'PLS Regression' else False\n",
    "    metrics = evaluate_model(trained_model, X_test, y_test, name, is_regression=is_regression)\n",
    "    results[name] = metrics\n",
    "    save_model(trained_model, f'../models/{name.lower().replace(\" \", \"_\")}_model.pkl')\n",
    "    print(\"Model training, tuning, and evaluation completed.\")"
   ]
  },
  {
   "cell_type": "markdown",
   "metadata": {},
   "source": [
    "## Save Evaluation Metrics"
   ]
  },
  {
   "cell_type": "code",
   "execution_count": null,
   "metadata": {},
   "outputs": [],
   "source": [
    "# Save evaluation metrics\n",
    "results_df = pd.DataFrame(results).T\n",
    "os.makedirs('../results', exist_ok=True)  # Create the directory if it doesn't exist\n",
    "results_df.to_csv('../results/evaluation_metrics.csv', index=True)\n",
    "results_df"
   ]
  },
  {
   "cell_type": "markdown",
   "metadata": {},
   "source": [
    "## Summary\n",
    "\n",
    "In this notebook, we have trained and evaluated various machine learning models, we also saved the trained models and evaluation results for further analysis."
   ]
  }
 ],
 "metadata": {
  "kernelspec": {
   "display_name": "Python 3 (ipykernel)",
   "language": "python",
   "name": "python3"
  },
  "language_info": {
   "codemirror_mode": {
    "name": "ipython",
    "version": 3
   },
   "file_extension": ".py",
   "mimetype": "text/x-python",
   "name": "python",
   "nbconvert_exporter": "python",
   "pygments_lexer": "ipython3",
   "version": "3.11.9"
  }
 },
 "nbformat": 4,
 "nbformat_minor": 4
}
