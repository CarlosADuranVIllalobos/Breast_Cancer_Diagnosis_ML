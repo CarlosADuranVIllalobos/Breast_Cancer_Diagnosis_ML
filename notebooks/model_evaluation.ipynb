{
 "cells": [
  {
   "cell_type": "markdown",
   "metadata": {},
   "source": [
    "# Model Evaluation\n",
    "Evaluating the performance of machine learning models using metrics and visualizations."
   ]
  },
  {
   "cell_type": "code",
   "execution_count": null,
   "metadata": {},
   "outputs": [],
   "source": [
    "# Import libraries\n",
    "import numpy as np\n",
    "import pandas as pd\n",
    "import matplotlib.pyplot as plt\n",
    "import seaborn as sns\n",
    "from sklearn.metrics import confusion_matrix, roc_curve\n",
    "sns.set(style='whitegrid')"
   ]
  },
  {
   "cell_type": "markdown",
   "metadata": {},
   "source": [
    "## Load Model Results"
   ]
  },
  {
   "cell_type": "code",
   "execution_count": null,
   "metadata": {},
   "outputs": [],
   "source": [
    "# Placeholder results\n",
    "results = {\n",
    "    'Random Forest': {'roc_auc': 0.90, 'cm': np.array([[85, 15], [10, 90]])},\n",
    "    'Gradient Boosting': {'roc_auc': 0.88, 'cm': np.array([[83, 17], [12, 88]])},\n",
    "    'PLS': {'roc_auc': 0.85, 'cm': np.array([[80, 20], [15, 85]])},\n",
    "    'GPR': {'roc_auc': 0.87, 'cm': np.array([[82, 18], [13, 87]])},\n",
    "    'Neural Networks': {'roc_auc': 0.89, 'cm': np.array([[84, 16], [11, 89]])}\n",
    "}"
   ]
  },
  {
   "cell_type": "markdown",
   "metadata": {},
   "source": [
    "## Confusion Matrices"
   ]
  },
  {
   "cell_type": "code",
   "execution_count": null,
   "metadata": {},
   "outputs": [],
   "source": [
    "def plot_cm(cm, title):\n",
    "    plt.figure(figsize=(4, 3))\n",
    "    sns.heatmap(cm, annot=True, fmt='d', cmap='Blues', xticklabels=['No Failure', 'Failure'], yticklabels=['No Failure', 'Failure'])\n",
    "    plt.title(title)\n",
    "    plt.xlabel('Predicted')\n",
    "    plt.ylabel('Actual')\n",
    "    plt.show()\n",
    "\n",
    "for model, result in results.items():\n",
    "    plot_cm(result['cm'], model)"
   ]
  },
  {
   "cell_type": "markdown",
   "metadata": {},
   "source": [
    "## Performance Comparison"
   ]
  },
  {
   "cell_type": "code",
   "execution_count": null,
   "metadata": {},
   "outputs": [],
   "source": [
    "performance = pd.DataFrame({model: {'ROC AUC': result['roc_auc']} for model, result in results.items()}).T\n",
    "performance.plot(kind='bar', figsize=(8, 4))\n",
    "plt.title('Model Performance Comparison')\n",
    "plt.ylim(0, 1)\n",
    "plt.show()"
   ]
  },
  {
   "cell_type": "markdown",
   "metadata": {},
   "source": [
    "## ROC Curves"
   ]
  },
  {
   "cell_type": "code",
   "execution_count": null,
   "metadata": {},
   "outputs": [],
   "source": [
    "# Placeholder ROC curves\n",
    "fpr, tpr = np.linspace(0, 1, 100), np.linspace(0, 1, 100)\n",
    "plt.figure(figsize=(8, 4))\n",
    "for model, result in results.items():\n",
    "    plt.plot(fpr, tpr, label=f'{model} (AUC = {result['roc_auc']:.2f})')\n",
    "plt.plot([0, 1], [0, 1], 'k--')\n",
    "plt.xlabel('False Positive Rate')\n",
    "plt.ylabel('True Positive Rate')\n",
    "plt.title('ROC Curves')\n",
    "plt.legend()\n",
    "plt.show()"
   ]
  },
  {
   "cell_type": "markdown",
   "metadata": {},
   "source": [
    "## Conclusion\n",
    "Models evaluated using confusion matrices, ROC AUC, and ROC curves."
   ]
  }
 ],
 "metadata": {
  "kernelspec": {
   "display_name": "Python 3",
   "language": "python",
   "name": "python3"
  },
  "language_info": {
   "name": "python",
   "version": "3.8.5"
  }
 },
 "nbformat": 4,
 "nbformat_minor": 4
}

